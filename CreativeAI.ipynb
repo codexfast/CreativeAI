{
  "cells": [
    {
      "cell_type": "markdown",
      "metadata": {
        "id": "view-in-github",
        "colab_type": "text"
      },
      "source": [
        "<a href=\"https://colab.research.google.com/github/codexfast/CreativeAI/blob/main/CreativeAI.ipynb\" target=\"_parent\"><img src=\"https://colab.research.google.com/assets/colab-badge.svg\" alt=\"Open In Colab\"/></a>"
      ]
    },
    {
      "cell_type": "code",
      "execution_count": null,
      "metadata": {
        "id": "TpTgEcm-oc9N"
      },
      "outputs": [],
      "source": [
        "# @title # Instalação\n",
        "\n",
        "# Baixa reposiório back-end\n",
        "%cd /content\n",
        "!git clone https://github.com/codexfast/creative-ai-backend.git /content/CreativeAI\n",
        "\n",
        "# Instala as dependências\n",
        "%cd /content/CreativeAI\n",
        "!pip install -r requirements.txt\n",
        "\n",
        "# Baixa reposiório ComfyUI(totoro4)\n",
        "!git clone -b totoro4 https://github.com/camenduru/ComfyUI /content/CreativeAI/totoro4\n",
        "\n",
        "# Instala necessários\n",
        "!pip install pyngrok\n",
        "!pip install qrcode[pil]\n",
        "!pip install -q torchsde einops diffusers accelerate xformers==0.0.28.post2 python-multipart==0.0.12\n",
        "!pip install --upgrade --force-reinstall torch torchvision torchaudio --index-url https://download.pytorch.org/whl/cu118\n",
        "!apt -y install -qq aria2\n",
        "\n",
        "# Baixa Modelos, Lora, VAe, etc...\n",
        "\n",
        "\"\"\"flux1-dev-fp8-all-in-one.safetensors\"\"\"\n",
        "!aria2c --console-log-level=error -c -x 16 -s 16 -k 1M https://huggingface.co/camenduru/FLUX.1-dev/resolve/main/flux1-dev-fp8-all-in-one.safetensors -d /content/CreativeAI/models/checkpoints -o flux1-dev-fp8-all-in-one.safetensors\n",
        "\"\"\"flux_realism_lora.safetensors\"\"\"\n",
        "!aria2c --console-log-level=error -c -x 16 -s 16 -k 1M https://huggingface.co/camenduru/FLUX.1-dev/resolve/main/flux_realism_lora.safetensors -d /content/CreativeAI/models/loras -o flux_realism_lora.safetensors\n",
        "\n",
        "# Cria link entre diretôrios\n",
        "!ln -s /content/CreativeAI/models/ /content/CreativeAI/totoro4/models\n",
        "\n",
        "\n",
        "# Instala UI\n",
        "%cd /content\n",
        "!git clone https://github.com/codexfast/CreativeAI.git ui\n",
        "%cd /content/ui\n",
        "!npm install\n",
        "!npm run build\n",
        "%mkdir /content/CreativeAI/static/frontend\n",
        "%mv /content/ui/dist/* /content/CreativeAI/static/frontend"
      ]
    },
    {
      "cell_type": "code",
      "execution_count": null,
      "metadata": {
        "id": "MfqBU5LddUtv",
        "colab": {
          "base_uri": "https://localhost:8080/",
          "height": 468
        },
        "outputId": "7ebe857e-d474-465f-fe0e-bf1a16686101"
      },
      "outputs": [
        {
          "output_type": "stream",
          "name": "stdout",
          "text": [
            "/content/CreativeAI\n",
            "URL pública do ngrok: https://3af0-34-125-39-118.ngrok-free.app\n",
            "\n"
          ]
        },
        {
          "output_type": "display_data",
          "data": {
            "text/plain": [
              "<qrcode.image.pil.PilImage at 0x794eebb07a10>"
            ],
            "image/png": "[encoded data removed]",
            "image/jpeg": "[encoded data removed]"
          },
          "metadata": {}
        },
        {
          "output_type": "stream",
          "name": "stdout",
          "text": [
            "\u001b]11;?\u001b\\\u001b]10;?\u001b\\\n",
            "  \u001b[37;46m FastAPI \u001b[0m  Starting production server 🚀\n",
            " \n",
            "             Searching for package file structure from directories with         \n",
            "             \u001b[34m__init__.py\u001b[0m files                                                  \n",
            "Total VRAM 15095 MB, total RAM 12978 MB\n",
            "pytorch version: 2.7.0+cu118\n",
            "WARNING[XFORMERS]: xFormers can't load C++/CUDA extensions. xFormers was built for:\n",
            "    PyTorch 2.5.0+cu121 with CUDA 1201 (you have 2.7.0+cu118)\n",
            "    Python  3.11.10 (you have 3.11.12)\n",
            "  Please reinstall xformers (see https://github.com/facebookresearch/xformers#installing-xformers)\n",
            "  Memory-efficient attention, SwiGLU, sparse and more won't be available.\n",
            "  Set XFORMERS_MORE_DETAILS=1 for more details\n",
            "xformers version: 0.0.28.post2\n",
            "Set vram state to: NORMAL_VRAM\n",
            "Device: cuda:0 Tesla T4 : native\n",
            "Using pytorch cross attention\n",
            "Total VRAM 15095 MB, total RAM 12978 MB\n",
            "pytorch version: 2.7.0+cu118\n",
            "xformers version: 0.0.28.post2\n",
            "Set vram state to: NORMAL_VRAM\n",
            "Device: cuda:0 Tesla T4 : native\n",
            "model weight dtype torch.float8_e4m3fn, manual cast: torch.float16\n",
            "model_type FLUX\n",
            "Using pytorch attention in VAE\n",
            "Using pytorch attention in VAE\n",
            "Model doesn't have a device attribute.\n",
            "Model doesn't have a device attribute.\n",
            "loaded straight to GPU\n",
            "Requested to load Flux\n",
            "Loading 1 new model\n",
            "             Importing from /content/CreativeAI\n",
            " \n",
            "   \u001b[37;100m module \u001b[0m  🐍 main.py\n",
            " \n",
            "     \u001b[37;100m code \u001b[0m  Importing the FastAPI app object from the module with the following\n",
            "             code:                                                              \n",
            " \n",
            "             \u001b[4mfrom \u001b[0m\u001b[1;4mmain\u001b[0m\u001b[4m import \u001b[0m\u001b[1;4mapp\u001b[0m\n",
            " \n",
            "      \u001b[37;100m app \u001b[0m  Using import string: \u001b[34mmain:app\u001b[0m\n",
            " \n",
            "   \u001b[37;100m server \u001b[0m  Server started at \u001b]8;id=750190;http://0.0.0.0:8000\u001b\\http://0.0.0.0:8000\u001b]8;;\u001b\\\n",
            "   \u001b[37;100m server \u001b[0m  Documentation at \u001b]8;id=861356;http://0.0.0.0:8000/docs\u001b\\http://0.0.0.0:8000/docs\u001b]8;;\u001b\\\n",
            " \n",
            "             Logs:\n",
            " \n",
            "\u001b]11;?\u001b\\\u001b]10;?\u001b\\\u001b]11;?\u001b\\\u001b]10;?\u001b\\     \u001b[37;100m INFO \u001b[0m  Started server process [17085]\n",
            "Started server process [17085]\n",
            "     \u001b[37;100m INFO \u001b[0m  Waiting for application startup.\n",
            "Waiting for application startup.\n",
            "     \u001b[37;100m INFO \u001b[0m  Application startup complete.\n",
            "Application startup complete.\n",
            "     \u001b[37;100m INFO \u001b[0m  Uvicorn running on http://0.0.0.0:8000 (Press CTRL+C to quit)\n",
            "Uvicorn running on http://0.0.0.0:8000 (Press CTRL+C to quit)\n",
            "     \u001b[37;100m INFO \u001b[0m  2804:a4:9d:5ad9:e089:5bf5:9835:8a30:0 - \"GET / HTTP/1.1\" 200\n",
            "     \u001b[37;100m INFO \u001b[0m  2804:a4:9d:5ad9:e089:5bf5:9835:8a30:0 - \"GET                       \n",
            "             /assets/index-RTl6bReO.js HTTP/1.1\" 200\n",
            "     \u001b[37;100m INFO \u001b[0m  2804:a4:9d:5ad9:e089:5bf5:9835:8a30:0 - \"GET                       \n",
            "             /assets/index-mlrw9FJi.css HTTP/1.1\" 200\n",
            "     \u001b[37;100m INFO \u001b[0m  2804:a4:9d:5ad9:e089:5bf5:9835:8a30:0 - \"GET /favicon.ico HTTP/1.1\"\n",
            "             404\n",
            "     \u001b[37;100m INFO \u001b[0m  2804:a4:9d:5ad9:e089:5bf5:9835:8a30:0 - \"GET /api/tasks?page=1     \n",
            "             HTTP/1.1\" 200\n",
            "     \u001b[37;100m INFO \u001b[0m  2804:a4:9d:5ad9:e089:5bf5:9835:8a30:0 - \"POST /api/generate        \n",
            "             HTTP/1.1\" 200\n",
            "Processing task af51416d-f17e-4cce-b6ae-bb647b496db3\n",
            "Seed: 12177614062972015769\n",
            "Requested to load FluxClipModel_\n",
            "Loading 1 new model\n",
            "loading in lowvram mode 2261.162890625\n",
            "     \u001b[37;100m INFO \u001b[0m  2804:a4:9d:5ad9:e089:5bf5:9835:8a30:0 - \"GET /api/tasks?page=1     \n",
            "             HTTP/1.1\" 200\n",
            "     \u001b[37;100m INFO \u001b[0m  2804:a4:9d:5ad9:e089:5bf5:9835:8a30:0 - \"GET /api/tasks?page=2     \n",
            "             HTTP/1.1\" 200\n",
            "     \u001b[37;100m INFO \u001b[0m  2804:a4:9d:5ad9:e089:5bf5:9835:8a30:0 - \"GET                       \n",
            "             /api/task/af51416d-f17e-4cce-b6ae-bb647b496db3 HTTP/1.1\" 200\n"
          ]
        }
      ],
      "source": [
        "# @title # Iniciar\n",
        "\n",
        "%cd /content/CreativeAI\n",
        "\n",
        "from pyngrok import ngrok\n",
        "from IPython.display import display\n",
        "import qrcode\n",
        "\n",
        "# Configure seu token (uma vez por sessão)\n",
        "ngrok.set_auth_token(\"24eSP3ZWk4atiPW7OhjmzWZegPR_4EfutiPHqwnCLi6K73wkV\")\n",
        "\n",
        "# Abra o túnel na porta 8000\n",
        "tunnel = ngrok.connect(8000)\n",
        "\n",
        "# ✅ Obtenha apenas a URL pública\n",
        "public_url = tunnel.public_url\n",
        "\n",
        "print(\"URL pública do ngrok:\", public_url)\n",
        "print()\n",
        "qr = qrcode.make(public_url)\n",
        "display(qr)\n",
        "\n",
        "\n",
        "try:\n",
        "  !fastapi run\n",
        "finally:\n",
        "  print(\"Falha, encerrando aplicação!\")\n",
        "  ngrok.disconnect(public_url)\n"
      ]
    }
  ],
  "metadata": {
    "accelerator": "GPU",
    "colab": {
      "gpuType": "T4",
      "provenance": [],
      "include_colab_link": true
    },
    "kernelspec": {
      "display_name": "Python 3",
      "name": "python3"
    },
    "language_info": {
      "name": "python"
    }
  },
  "nbformat": 4,
  "nbformat_minor": 0
}